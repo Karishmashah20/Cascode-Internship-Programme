{
 "cells": [
  {
   "cell_type": "code",
   "execution_count": 1,
   "id": "2ddd8f2b",
   "metadata": {},
   "outputs": [],
   "source": [
    "import pandas as pd"
   ]
  },
  {
   "cell_type": "code",
   "execution_count": 7,
   "id": "a40bb6f3",
   "metadata": {},
   "outputs": [],
   "source": [
    "# Load the dataset\n",
    "data = pd.read_csv(\"C:\\\\Users\\\\hp\\\\CasCode\\\\Task2\\\\student_data.csv\")"
   ]
  },
  {
   "cell_type": "code",
   "execution_count": 9,
   "id": "64e4c7ed",
   "metadata": {},
   "outputs": [],
   "source": [
    "\n",
    "# Calculate the median and MAD of each column\n",
    "med = data.median()\n",
    "mad = data.mad()\n",
    "\n",
    "# Define the threshold as 3 times the MAD\n",
    "thresh = 3 * mad\n",
    "\n",
    "# Find the anomalies\n",
    "anomalies = ((data - med).abs() > thresh).any(axis=1)\n",
    "\n",
    "# Replace the anomalies with the median value\n",
    "data[anomalies] = med"
   ]
  },
  {
   "cell_type": "code",
   "execution_count": 10,
   "id": "30cef7f4",
   "metadata": {},
   "outputs": [],
   "source": [
    "# Calculate the mean and SD of each column\n",
    "mean = data.mean()\n",
    "sd = data.std()\n",
    "\n",
    "# Define the threshold as 3 times the SD\n",
    "thresh = 3 * sd\n",
    "\n",
    "# Find the anomalies\n",
    "anomalies = ((data - mean).abs() > thresh).any(axis=1)\n",
    "\n",
    "# Replace the anomalies with the mean value\n",
    "data[anomalies] = mean"
   ]
  },
  {
   "cell_type": "code",
   "execution_count": 11,
   "id": "8e190b8f",
   "metadata": {},
   "outputs": [],
   "source": [
    "# Calculate the mean and SD of each column\n",
    "mean = data.mean()\n",
    "sd = data.std()\n",
    "\n",
    "# Calculate the z-scores of each point\n",
    "z_scores = (data - mean) / sd\n",
    "\n",
    "# Define the threshold as 3 times the z-score\n",
    "thresh = 3\n",
    "\n",
    "# Find the anomalies\n",
    "anomalies = (z_scores.abs() > thresh).any(axis=1)\n",
    "\n",
    "# Replace the anomalies with the mean value\n",
    "data[anomalies] = mean\n"
   ]
  },
  {
   "cell_type": "code",
   "execution_count": 13,
   "id": "9c504139",
   "metadata": {},
   "outputs": [
    {
     "name": "stdout",
     "output_type": "stream",
     "text": [
      "Mean:\n",
      " Id          15.50\n",
      "Marks(%)    75.36\n",
      "dtype: float64\n",
      "Median:\n",
      " Id          15.5\n",
      "Marks(%)    80.8\n",
      "dtype: float64\n",
      "Mode:\n",
      "     Id  Marks(%)\n",
      "0    1      79.0\n",
      "1    2      85.0\n",
      "2    3       NaN\n",
      "3    4       NaN\n",
      "4    5       NaN\n",
      "5    6       NaN\n",
      "6    7       NaN\n",
      "7    8       NaN\n",
      "8    9       NaN\n",
      "9   10       NaN\n",
      "10  11       NaN\n",
      "11  12       NaN\n",
      "12  13       NaN\n",
      "13  14       NaN\n",
      "14  15       NaN\n",
      "15  16       NaN\n",
      "16  17       NaN\n",
      "17  18       NaN\n",
      "18  19       NaN\n",
      "19  20       NaN\n",
      "20  21       NaN\n",
      "21  22       NaN\n",
      "22  23       NaN\n",
      "23  24       NaN\n",
      "24  25       NaN\n",
      "25  26       NaN\n",
      "26  27       NaN\n",
      "27  28       NaN\n",
      "28  29       NaN\n",
      "29  30       NaN\n",
      "Variance:\n",
      " Id           77.500000\n",
      "Marks(%)    801.431448\n",
      "dtype: float64\n",
      "Standard deviation:\n",
      " Id           8.803408\n",
      "Marks(%)    28.309565\n",
      "dtype: float64\n",
      "Range:\n",
      " Id           29.0\n",
      "Marks(%)    120.0\n",
      "dtype: float64\n"
     ]
    }
   ],
   "source": [
    "#Discriptive statistics\n",
    "\n",
    "import pandas as pd\n",
    "\n",
    "# Load the dataset\n",
    "data = pd.read_csv(\"C:\\\\Users\\\\hp\\\\CasCode\\\\Task2\\\\student_data.csv\")\n",
    "\n",
    "# Calculate measures of central tendency and dispersion\n",
    "mean = data.mean()\n",
    "median = data.median()\n",
    "mode = data.mode()\n",
    "variance = data.var()\n",
    "std_deviation = data.std()\n",
    "range = data.max() - data.min()\n",
    "\n",
    "# Print the results\n",
    "print(\"Mean:\\n\", mean)\n",
    "print(\"Median:\\n\", median)\n",
    "print(\"Mode:\\n\", mode)\n",
    "print(\"Variance:\\n\", variance)\n",
    "print(\"Standard deviation:\\n\", std_deviation)\n",
    "print(\"Range:\\n\", range)"
   ]
  },
  {
   "cell_type": "code",
   "execution_count": 15,
   "id": "a7c5e2e4",
   "metadata": {},
   "outputs": [
    {
     "data": {
      "image/png": "[encoded data removed]",
      "text/plain": [
       "<Figure size 432x288 with 1 Axes>"
      ]
     },
     "metadata": {
      "needs_background": "light"
     },
     "output_type": "display_data"
    },
    {
     "data": {
      "image/png": "[encoded data removed]",
      "text/plain": [
       "<Figure size 432x288 with 1 Axes>"
      ]
     },
     "metadata": {
      "needs_background": "light"
     },
     "output_type": "display_data"
    },
    {
     "data": {
      "image/png": "[encoded data removed]",
      "text/plain": [
       "<Figure size 432x288 with 1 Axes>"
      ]
     },
     "metadata": {
      "needs_background": "light"
     },
     "output_type": "display_data"
    }
   ],
   "source": [
    "#Data visualization\n",
    "\n",
    "import pandas as pd\n",
    "import matplotlib.pyplot as plt\n",
    "\n",
    "# Load the dataset\n",
    "data = pd.read_csv(\"C:\\\\Users\\\\hp\\\\CasCode\\\\Task2\\\\student_data.csv\")\n",
    "\n",
    "# Create a scatter plot\n",
    "plt.scatter(data[\"Marks(%)\"], data[\"Id\"])\n",
    "plt.xlabel(\"Marks(%)\")\n",
    "plt.ylabel(\"Id\")\n",
    "plt.show()\n",
    "\n",
    "# Create a histogram\n",
    "plt.hist(data[\"Marks(%)\"])\n",
    "plt.xlabel(\"Marks(%)\")\n",
    "plt.ylabel(\"Frequency\")\n",
    "plt.show()\n",
    "\n",
    "# Create a box plot\n",
    "plt.boxplot(data[\"Marks(%)\"])\n",
    "plt.xlabel(\"Marks(%)\")\n",
    "plt.show()"
   ]
  },
  {
   "cell_type": "code",
   "execution_count": 16,
   "id": "d010346b",
   "metadata": {},
   "outputs": [
    {
     "name": "stdout",
     "output_type": "stream",
     "text": [
      "Correlation coefficient: -0.2048731463228822\n"
     ]
    }
   ],
   "source": [
    "#Correlation Analysis\n",
    "\n",
    "# Calculate the correlation coefficient\n",
    "correlation_coefficient = data[\"Marks(%)\"].corr(data[\"Id\"])\n",
    "\n",
    "# Print the result\n",
    "print(\"Correlation coefficient:\", correlation_coefficient)"
   ]
  },
  {
   "cell_type": "code",
   "execution_count": 18,
   "id": "45fda59f",
   "metadata": {},
   "outputs": [
    {
     "name": "stdout",
     "output_type": "stream",
     "text": [
      "                            OLS Regression Results                            \n",
      "==============================================================================\n",
      "Dep. Variable:                     Id   R-squared:                       0.042\n",
      "Model:                            OLS   Adj. R-squared:                  0.008\n",
      "Method:                 Least Squares   F-statistic:                     1.227\n",
      "Date:                Wed, 17 May 2023   Prob (F-statistic):              0.277\n",
      "Time:                        12:53:06   Log-Likelihood:                -106.67\n",
      "No. Observations:                  30   AIC:                             217.3\n",
      "Df Residuals:                      28   BIC:                             220.1\n",
      "Df Model:                           1                                         \n",
      "Covariance Type:            nonrobust                                         \n",
      "==============================================================================\n",
      "                 coef    std err          t      P>|t|      [0.025      0.975]\n",
      "------------------------------------------------------------------------------\n",
      "const         20.3011      4.621      4.393      0.000      10.835      29.767\n",
      "Marks(%)      -0.0637      0.058     -1.108      0.277      -0.182       0.054\n",
      "==============================================================================\n",
      "Omnibus:                        5.246   Durbin-Watson:                   0.081\n",
      "Prob(Omnibus):                  0.073   Jarque-Bera (JB):                1.802\n",
      "Skew:                           0.071   Prob(JB):                        0.406\n",
      "Kurtosis:                       1.808   Cond. No.                         232.\n",
      "==============================================================================\n",
      "\n",
      "Notes:\n",
      "[1] Standard Errors assume that the covariance matrix of the errors is correctly specified.\n"
     ]
    },
    {
     "name": "stderr",
     "output_type": "stream",
     "text": [
      "C:\\Users\\hp\\anaconda3\\lib\\site-packages\\statsmodels\\tsa\\tsatools.py:142: FutureWarning: In a future version of pandas all arguments of concat except for the argument 'objs' will be keyword-only\n",
      "  x = pd.concat(x[::order], 1)\n"
     ]
    }
   ],
   "source": [
    "#Regression analysis\n",
    "\n",
    "import statsmodels.api as sm\n",
    "# Define the dependent and independent variables\n",
    "y = data[\"Id\"]\n",
    "X = data[\"Marks(%)\"]\n",
    "\n",
    "# Add a constant to the independent variable\n",
    "X = sm.add_constant(X)\n",
    "\n",
    "# Fit the regression model\n",
    "model = sm.OLS(y, X).fit()\n",
    "\n",
    "# Print the results\n",
    "print(model.summary())"
   ]
  },
  {
   "cell_type": "code",
   "execution_count": 19,
   "id": "8c03acb1",
   "metadata": {},
   "outputs": [
    {
     "data": {
      "image/png": "[encoded data removed]",
      "text/plain": [
       "<Figure size 432x288 with 1 Axes>"
      ]
     },
     "metadata": {
      "needs_background": "light"
     },
     "output_type": "display_data"
    }
   ],
   "source": [
    "#Clustering analysis\n",
    "\n",
    "from sklearn.cluster import KMeans\n",
    "import matplotlib.pyplot as plt\n",
    "\n",
    "\n",
    "# Define the features\n",
    "X = data[[\"Marks(%)\", \"Id\"]]\n",
    "\n",
    "# Fit the KMeans model\n",
    "model = KMeans(n_clusters=3).fit(X)\n",
    "\n",
    "# Plot the clusters\n",
    "plt.scatter(X[\"Marks(%)\"], X[\"Id\"], c=model.labels_)\n",
    "plt.xlabel(\"Marks(%)\")\n",
    "plt.ylabel(\"Id\")\n",
    "plt.show()"
   ]
  },
  {
   "cell_type": "code",
   "execution_count": 20,
   "id": "aa4e8400",
   "metadata": {},
   "outputs": [
    {
     "name": "stdout",
     "output_type": "stream",
     "text": [
      "                            OLS Regression Results                            \n",
      "==============================================================================\n",
      "Dep. Variable:               Marks(%)   R-squared:                       0.042\n",
      "Model:                            OLS   Adj. R-squared:                  0.008\n",
      "Method:                 Least Squares   F-statistic:                     1.227\n",
      "Date:                Wed, 17 May 2023   Prob (F-statistic):              0.277\n",
      "Time:                        12:53:56   Log-Likelihood:                -141.71\n",
      "No. Observations:                  30   AIC:                             287.4\n",
      "Df Residuals:                      28   BIC:                             290.2\n",
      "Df Model:                           1                                         \n",
      "Covariance Type:            nonrobust                                         \n",
      "==============================================================================\n",
      "                 coef    std err          t      P>|t|      [0.025      0.975]\n",
      "------------------------------------------------------------------------------\n",
      "const         85.5717     10.560      8.103      0.000      63.941     107.203\n",
      "Id            -0.6588      0.595     -1.108      0.277      -1.877       0.560\n",
      "==============================================================================\n",
      "Omnibus:                        7.683   Durbin-Watson:                   1.609\n",
      "Prob(Omnibus):                  0.021   Jarque-Bera (JB):                6.001\n",
      "Skew:                          -1.012   Prob(JB):                       0.0498\n",
      "Kurtosis:                       3.838   Cond. No.                         36.5\n",
      "==============================================================================\n",
      "\n",
      "Notes:\n",
      "[1] Standard Errors assume that the covariance matrix of the errors is correctly specified.\n"
     ]
    },
    {
     "name": "stderr",
     "output_type": "stream",
     "text": [
      "C:\\Users\\hp\\anaconda3\\lib\\site-packages\\statsmodels\\tsa\\tsatools.py:142: FutureWarning: In a future version of pandas all arguments of concat except for the argument 'objs' will be keyword-only\n",
      "  x = pd.concat(x[::order], 1)\n"
     ]
    }
   ],
   "source": [
    "#Regression analysis\n",
    "\n",
    "import statsmodels.api as sm\n",
    "# Define the dependent and independent variables\n",
    "y = data[\"Marks(%)\"]\n",
    "X = data[\"Id\"]\n",
    "\n",
    "# Add a constant to the independent variable\n",
    "X = sm.add_constant(X)\n",
    "\n",
    "# Fit the regression model\n",
    "model = sm.OLS(y, X).fit()\n",
    "\n",
    "# Print the results\n",
    "print(model.summary())\n"
   ]
  },
  {
   "cell_type": "code",
   "execution_count": null,
   "id": "671d4a5b",
   "metadata": {},
   "outputs": [],
   "source": []
  }
 ],
 "metadata": {
  "kernelspec": {
   "display_name": "Python 3 (ipykernel)",
   "language": "python",
   "name": "python3"
  },
  "language_info": {
   "codemirror_mode": {
    "name": "ipython",
    "version": 3
   },
   "file_extension": ".py",
   "mimetype": "text/x-python",
   "name": "python",
   "nbconvert_exporter": "python",
   "pygments_lexer": "ipython3",
   "version": "3.9.7"
  }
 },
 "nbformat": 4,
 "nbformat_minor": 5
}
