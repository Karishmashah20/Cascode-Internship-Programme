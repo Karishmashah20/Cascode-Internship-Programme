{
 "cells": [
  {
   "cell_type": "code",
   "execution_count": 1,
   "id": "3c58271f",
   "metadata": {},
   "outputs": [],
   "source": [
    "import numpy as np\n",
    "import pandas as pd\n",
    "import matplotlib.pyplot as plt\n",
    "import seaborn as sns\n"
   ]
  },
  {
   "cell_type": "code",
   "execution_count": 23,
   "id": "4d99b5d8",
   "metadata": {},
   "outputs": [],
   "source": [
    "df = pd.read_csv('C:\\\\Users\\\\hp\\\\CasCode\\\\Task1\\\\student_data.csv')\n"
   ]
  },
  {
   "cell_type": "code",
   "execution_count": 4,
   "id": "242f24f3",
   "metadata": {},
   "outputs": [
    {
     "name": "stdout",
     "output_type": "stream",
     "text": [
      "(30, 2)\n"
     ]
    }
   ],
   "source": [
    "# Get the shape of the dataset\n",
    "print(df.shape)"
   ]
  },
  {
   "cell_type": "code",
   "execution_count": 5,
   "id": "35d758dd",
   "metadata": {},
   "outputs": [
    {
     "name": "stdout",
     "output_type": "stream",
     "text": [
      "   Id  Marks(%)\n",
      "0   1      85.0\n",
      "1   2      87.6\n",
      "2   3      89.1\n",
      "3   4      76.4\n",
      "4   5      77.9\n"
     ]
    }
   ],
   "source": [
    "# Preview the first few rows\n",
    "print(df.head())"
   ]
  },
  {
   "cell_type": "code",
   "execution_count": 6,
   "id": "45097f37",
   "metadata": {},
   "outputs": [
    {
     "name": "stdout",
     "output_type": "stream",
     "text": [
      "Id          0\n",
      "Marks(%)    0\n",
      "dtype: int64\n"
     ]
    }
   ],
   "source": [
    "# Check for missing values\n",
    "print(df.isnull().sum())\n"
   ]
  },
  {
   "cell_type": "code",
   "execution_count": 7,
   "id": "bb539535",
   "metadata": {},
   "outputs": [
    {
     "name": "stdout",
     "output_type": "stream",
     "text": [
      "              Id    Marks(%)\n",
      "count  30.000000   30.000000\n",
      "mean   15.500000   75.360000\n",
      "std     8.803408   28.309565\n",
      "min     1.000000    5.000000\n",
      "25%     8.250000   70.500000\n",
      "50%    15.500000   80.800000\n",
      "75%    22.750000   89.775000\n",
      "max    30.000000  125.000000\n"
     ]
    }
   ],
   "source": [
    "# Calculate summary statistics\n",
    "print(df.describe())"
   ]
  },
  {
   "cell_type": "code",
   "execution_count": 8,
   "id": "721533db",
   "metadata": {},
   "outputs": [
    {
     "name": "stdout",
     "output_type": "stream",
     "text": [
      "                Id  Marks(%)\n",
      "Id        1.000000 -0.204873\n",
      "Marks(%) -0.204873  1.000000\n"
     ]
    }
   ],
   "source": [
    "# Calculate the correlation matrix\n",
    "print(df.corr())\n"
   ]
  },
  {
   "cell_type": "code",
   "execution_count": 9,
   "id": "ebf2301a",
   "metadata": {},
   "outputs": [
    {
     "name": "stdout",
     "output_type": "stream",
     "text": [
      "75.35999999999999\n"
     ]
    }
   ],
   "source": [
    "# Calculate the mean of a specific column\n",
    "print(df['Marks(%)'].mean())"
   ]
  },
  {
   "cell_type": "code",
   "execution_count": 10,
   "id": "70ae2375",
   "metadata": {},
   "outputs": [
    {
     "name": "stdout",
     "output_type": "stream",
     "text": [
      "28.309564607670357\n"
     ]
    }
   ],
   "source": [
    "# Calculate the standard deviation of a specific column\n",
    "print(df['Marks(%)'].std())"
   ]
  },
  {
   "cell_type": "code",
   "execution_count": 11,
   "id": "4300efa8",
   "metadata": {},
   "outputs": [
    {
     "name": "stdout",
     "output_type": "stream",
     "text": [
      "80.8\n"
     ]
    }
   ],
   "source": [
    "# Calculate the median of a specific column\n",
    "print(df['Marks(%)'].median())"
   ]
  },
  {
   "cell_type": "code",
   "execution_count": 12,
   "id": "da90c5b8",
   "metadata": {},
   "outputs": [
    {
     "name": "stdout",
     "output_type": "stream",
     "text": [
      "0    79.0\n",
      "1    85.0\n",
      "dtype: float64\n"
     ]
    }
   ],
   "source": [
    "# Calculate the mode of a specific column\n",
    "print(df['Marks(%)'].mode())"
   ]
  },
  {
   "cell_type": "code",
   "execution_count": 13,
   "id": "eae1acdf",
   "metadata": {},
   "outputs": [
    {
     "name": "stdout",
     "output_type": "stream",
     "text": [
      "28\n"
     ]
    }
   ],
   "source": [
    "# Count the number of unique values in a specific column\n",
    "print(df['Marks(%)'].nunique())"
   ]
  },
  {
   "cell_type": "code",
   "execution_count": 14,
   "id": "362753f2",
   "metadata": {},
   "outputs": [
    {
     "data": {
      "image/png": "[encoded data removed]",
      "text/plain": [
       "<Figure size 432x288 with 1 Axes>"
      ]
     },
     "metadata": {
      "needs_background": "light"
     },
     "output_type": "display_data"
    }
   ],
   "source": [
    "# Histogram\n",
    "plt.hist(df['Marks(%)'], bins=10)\n",
    "plt.title('Histogram of Marks(%)')\n",
    "plt.xlabel('Values')\n",
    "plt.ylabel('Frequency')\n",
    "plt.show()"
   ]
  },
  {
   "cell_type": "code",
   "execution_count": 15,
   "id": "3685013a",
   "metadata": {},
   "outputs": [
    {
     "data": {
      "image/png": "[encoded data removed]",
      "text/plain": [
       "<Figure size 432x288 with 1 Axes>"
      ]
     },
     "metadata": {
      "needs_background": "light"
     },
     "output_type": "display_data"
    }
   ],
   "source": [
    "# Scatter plot\n",
    "plt.scatter(df['Marks(%)'], df['Id'])\n",
    "plt.title('Scatter Plot of Marks(%) vs. Id')\n",
    "plt.xlabel('Marks(%)')\n",
    "plt.ylabel('Id')\n",
    "plt.show()"
   ]
  },
  {
   "cell_type": "code",
   "execution_count": 16,
   "id": "058f5f2d",
   "metadata": {},
   "outputs": [
    {
     "data": {
      "image/png": "[encoded data removed]",
      "text/plain": [
       "<Figure size 432x288 with 1 Axes>"
      ]
     },
     "metadata": {
      "needs_background": "light"
     },
     "output_type": "display_data"
    }
   ],
   "source": [
    "# Box plot\n",
    "sns.boxplot(x='Marks(%)', y='Id', data=df)\n",
    "plt.title('Box Plot of Marks(%) vs. Id')\n",
    "plt.xlabel('Marks(%)')\n",
    "plt.ylabel('Id')\n",
    "plt.show()"
   ]
  },
  {
   "cell_type": "code",
   "execution_count": 17,
   "id": "1c1ab920",
   "metadata": {},
   "outputs": [
    {
     "data": {
      "image/png": "[encoded data removed]",
      "text/plain": [
       "<Figure size 432x288 with 1 Axes>"
      ]
     },
     "metadata": {
      "needs_background": "light"
     },
     "output_type": "display_data"
    }
   ],
   "source": [
    "# Bar plot\n",
    "sns.barplot(x='Marks(%)', y='Id', data=df)\n",
    "plt.title('Bar Plot of Marks(%) vs. Id')\n",
    "plt.xlabel('Marks(%)')\n",
    "plt.ylabel('Id')\n",
    "plt.show()"
   ]
  },
  {
   "cell_type": "code",
   "execution_count": 22,
   "id": "d5975a53",
   "metadata": {},
   "outputs": [
    {
     "data": {
      "image/png": "[encoded data removed]",
      "text/plain": [
       "<Figure size 432x288 with 2 Axes>"
      ]
     },
     "metadata": {
      "needs_background": "light"
     },
     "output_type": "display_data"
    }
   ],
   "source": [
    "# Heatmap\n",
    "sns.heatmap(df.corr(), annot=True)\n",
    "plt.title('Heatmap of Correlation Matrix')\n",
    "plt.show()"
   ]
  },
  {
   "cell_type": "code",
   "execution_count": null,
   "id": "dd458c20",
   "metadata": {},
   "outputs": [],
   "source": []
  }
 ],
 "metadata": {
  "kernelspec": {
   "display_name": "Python 3 (ipykernel)",
   "language": "python",
   "name": "python3"
  },
  "language_info": {
   "codemirror_mode": {
    "name": "ipython",
    "version": 3
   },
   "file_extension": ".py",
   "mimetype": "text/x-python",
   "name": "python",
   "nbconvert_exporter": "python",
   "pygments_lexer": "ipython3",
   "version": "3.9.7"
  }
 },
 "nbformat": 4,
 "nbformat_minor": 5
}
